{
 "cells": [
  {
   "cell_type": "markdown",
   "metadata": {},
   "source": [
    "# CNN"
   ]
  },
  {
   "cell_type": "code",
   "execution_count": 1,
   "metadata": {
    "collapsed": true
   },
   "outputs": [],
   "source": [
    "from __future__ import print_function\n",
    "import torch\n",
    "from torch.autograd import Variable\n",
    "import torch.nn as nn\n",
    "import torch.nn.functional as F"
   ]
  },
  {
   "cell_type": "markdown",
   "metadata": {},
   "source": [
    "## Loading data"
   ]
  },
  {
   "cell_type": "code",
   "execution_count": 2,
   "metadata": {},
   "outputs": [],
   "source": [
    "import torchvision\n",
    "import torchvision.transforms as transforms"
   ]
  },
  {
   "cell_type": "code",
   "execution_count": 3,
   "metadata": {},
   "outputs": [
    {
     "name": "stdout",
     "output_type": "stream",
     "text": [
      "Files already downloaded and verified\n",
      "Files already downloaded and verified\n"
     ]
    }
   ],
   "source": [
    "transform = transforms.Compose(transforms=[\n",
    "    # Firstly, convert a PIL.Image or numpy.ndarray to tensor.\n",
    "    transforms.ToTensor(),\n",
    "    # Then, Normalize: Given mean: (R, G, B) and std: (R, G, B), will normalize\n",
    "    # each channel of the torch.*Tensor, i.e. channel = (channel - mean) / std\n",
    "    transforms.Normalize(mean=(0.5, 0.5, 0.5), std=(0.5, 0.5, 0.5))\n",
    "])  \n",
    "trainset = torchvision.datasets.CIFAR10(root='./data', train=True, \n",
    "                                        download=True,transform=transform)\n",
    "# num_workers (int, optional) – how many subprocesses to use for data loading. \n",
    "# 0 means that the data will be loaded in the main process (default: 0)\n",
    "trainloader = torch.utils.data.DataLoader(dataset=trainset, batch_size=4, \n",
    "                                          shuffle=True, num_workers=2)\n",
    "testset = torchvision.datasets.CIFAR10(root='./data', train=False, \n",
    "                                      download=True, transform=transform)\n",
    "testloader = torch.utils.data.DataLoader(dataset=testset, batch_size=4, \n",
    "                                        shuffle=False, num_workers=2)\n",
    "classes = ('plane', 'car', 'bird', 'cat',\n",
    "           'deer', 'dog', 'frog', 'horse', 'ship', 'truck')"
   ]
  },
  {
   "cell_type": "code",
   "execution_count": 4,
   "metadata": {},
   "outputs": [
    {
     "name": "stdout",
     "output_type": "stream",
     "text": [
      "image shape: (3, 36, 138) ->  (36, 138, 3)\n",
      " ship truck  deer  ship\n"
     ]
    },
    {
     "data": {
      "image/png": "[encoded data removed]",
      "text/plain": [
       "<matplotlib.figure.Figure at 0x7fc7e7040e48>"
      ]
     },
     "metadata": {},
     "output_type": "display_data"
    }
   ],
   "source": [
    "%matplotlib inline\n",
    "import matplotlib.pyplot as plt\n",
    "import numpy as np\n",
    "    \n",
    "def show_img(img):\n",
    "    # unormalize: channel = (channel - mean) / std =>\n",
    "    # channel = channel * std + mean\n",
    "    img = img * 0.5 + 0.5\n",
    "    npimg = img.numpy()\n",
    "    print(\"image shape:\", npimg.shape, \"-> \",np.transpose(npimg, (1, 2, 0)).shape)\n",
    "    # X: M*N*3 – RGB, M = 32+2*2, N = 4*32+5*2\n",
    "    plt.imshow(X=np.transpose(npimg, (1, 2, 0)))\n",
    "    \n",
    "# get some random training images\n",
    "dataiter = iter(trainloader) # batch_size = 4\n",
    "images, labels = dataiter.next()\n",
    "\n",
    "# show images\n",
    "show_img(torchvision.utils.make_grid(images))\n",
    "# print labels\n",
    "print(' '.join('%5s' % classes[labels[j]] for j in range(4)))"
   ]
  },
  {
   "cell_type": "markdown",
   "metadata": {},
   "source": [
    "## Define the networks\n",
    "![CNN Networks](./pictures/mnist.png)"
   ]
  },
  {
   "cell_type": "code",
   "execution_count": 5,
   "metadata": {},
   "outputs": [
    {
     "name": "stdout",
     "output_type": "stream",
     "text": [
      "CnnNet (\n",
      "  (conv1): Conv2d(3, 6, kernel_size=(5, 5), stride=(1, 1))\n",
      "  (conv2): Conv2d(6, 16, kernel_size=(5, 5), stride=(1, 1))\n",
      "  (fc1): Linear (400 -> 120)\n",
      "  (fc2): Linear (120 -> 84)\n",
      "  (fc3): Linear (84 -> 10)\n",
      ")\n"
     ]
    }
   ],
   "source": [
    "class CnnNet(nn.Module):\n",
    "    \n",
    "    def __init__(self):\n",
    "        super(CnnNet, self).__init__()\n",
    "        # 3(RGB)@(32*32) -> 6@(28*28)\n",
    "        self.conv1 = nn.Conv2d(in_channels=3, out_channels=6, kernel_size=5, stride=1)\n",
    "        # 6@(14*14) -> 16@(10*10)\n",
    "        self.conv2 = nn.Conv2d(6, 16, 5, 1)\n",
    "        # 16*5*5  -> 120\n",
    "        self.fc1 = nn.Linear(in_features=16*5*5, out_features=120)\n",
    "        self.fc2 = nn.Linear(120, 84)\n",
    "        self.fc3 = nn.Linear(84, 10)\n",
    "    \n",
    "    def forward(self, x):\n",
    "        # Activation funtion: ReLu\n",
    "        x = F.relu(self.conv1(x))\n",
    "        # Max pooling over a (2, 2) window for subsampling\n",
    "        x = F.max_pool2d(x, kernel_size=(2, 2))\n",
    "        # If the size is a square we can only specify a single number\n",
    "        x = F.max_pool2d(F.relu(self.conv2(x)), kernel_size=2)\n",
    "        x = x.view(-1, self.num_flat_features(x))\n",
    "        x = F.relu(self.fc1(x))\n",
    "        x = F.relu(self.fc2(x))\n",
    "        # Output layer\n",
    "        x = self.fc3(x)\n",
    "        return x\n",
    "    \n",
    "    def num_flat_features(self, x):\n",
    "        num_features = 1\n",
    "        one_x_size = x.size()[1:]   # all dimensions except the batch dimension\n",
    "        # print(one_x_size)\n",
    "        for dim in one_x_size:\n",
    "            num_features *= dim\n",
    "        # print(num_features)\n",
    "        return num_features\n",
    "\n",
    "cnn_net = CnnNet()\n",
    "print(cnn_net)"
   ]
  },
  {
   "cell_type": "code",
   "execution_count": 6,
   "metadata": {
    "collapsed": true
   },
   "outputs": [
    {
     "name": "stdout",
     "output_type": "stream",
     "text": [
      "10\n",
      "Parameter containing:\n",
      "(0 ,0 ,.,.) = \n",
      "  0.0181 -0.0741 -0.0868  0.0912 -0.0392\n",
      "  0.0319 -0.0564 -0.0949 -0.0063  0.0344\n",
      "  0.0330  0.0750  0.0128  0.0617  0.0650\n",
      "  0.0798  0.0493  0.0228  0.0949 -0.0784\n",
      "  0.0192 -0.1017 -0.0140  0.0664 -0.0192\n",
      "\n",
      "(0 ,1 ,.,.) = \n",
      "  0.0700 -0.1084 -0.1045 -0.0873  0.0265\n",
      " -0.0380 -0.0191 -0.0333 -0.0044  0.0487\n",
      " -0.0195 -0.0229 -0.0365  0.0282  0.0520\n",
      " -0.0428 -0.0383  0.0065  0.0034 -0.0135\n",
      " -0.0873 -0.0383 -0.0634  0.0001  0.0999\n",
      "\n",
      "(0 ,2 ,.,.) = \n",
      " -0.0097 -0.0003  0.0360  0.0696 -0.0321\n",
      "  0.0048  0.0441  0.0462 -0.0627 -0.0296\n",
      "  0.1011 -0.0485 -0.0348  0.0207 -0.0249\n",
      " -0.0105 -0.0830  0.0729  0.0263  0.0022\n",
      " -0.0270  0.0809  0.0420 -0.0398  0.0346\n",
      "\n",
      "(1 ,0 ,.,.) = \n",
      "  0.0948 -0.1071  0.1131  0.0696  0.0766\n",
      "  0.0027 -0.1039 -0.0903  0.1140  0.0966\n",
      " -0.1065  0.0459  0.0193  0.0368 -0.0218\n",
      " -0.0379  0.0005 -0.0125 -0.0123  0.0728\n",
      "  0.0156 -0.0675 -0.0526 -0.1118 -0.0624\n",
      "\n",
      "(1 ,1 ,.,.) = \n",
      "  0.1004 -0.0099  0.0605 -0.0632 -0.0924\n",
      "  0.0327 -0.0344 -0.0564 -0.0423 -0.0349\n",
      "  0.0502  0.0101 -0.0668 -0.0462 -0.0586\n",
      " -0.0695  0.0473  0.0870 -0.0853  0.0139\n",
      "  0.0891 -0.0171  0.0089 -0.0983 -0.0360\n",
      "\n",
      "(1 ,2 ,.,.) = \n",
      " -0.0424 -0.1140  0.0132 -0.0356 -0.0923\n",
      "  0.0133 -0.0926  0.0169 -0.0749 -0.0403\n",
      " -0.1018 -0.0496 -0.0360 -0.0956 -0.0581\n",
      "  0.0348 -0.0039  0.0882 -0.0304 -0.0064\n",
      "  0.0333 -0.0500 -0.0678  0.0337 -0.0386\n",
      "\n",
      "(2 ,0 ,.,.) = \n",
      " -0.0321  0.0520  0.0809 -0.1017 -0.0244\n",
      "  0.1016 -0.0250  0.1091  0.0985 -0.1002\n",
      "  0.0908 -0.0081 -0.0257 -0.0925 -0.0987\n",
      " -0.0201 -0.0869  0.0825  0.0941 -0.1148\n",
      "  0.0491  0.0532  0.1082  0.0491  0.1129\n",
      "\n",
      "(2 ,1 ,.,.) = \n",
      "  0.0066 -0.0435  0.0378  0.0824  0.1031\n",
      "  0.0910 -0.0351  0.0990  0.0293  0.0062\n",
      " -0.1112 -0.0740  0.0078 -0.0226  0.1042\n",
      " -0.0456  0.0085 -0.0082  0.0941  0.0674\n",
      "  0.0694 -0.1133  0.0722  0.0556 -0.1013\n",
      "\n",
      "(2 ,2 ,.,.) = \n",
      "  0.1067 -0.0658  0.1033  0.0969  0.0529\n",
      " -0.0175 -0.0436  0.0892  0.0019  0.0926\n",
      "  0.1031 -0.0810 -0.0459 -0.0733  0.0484\n",
      " -0.0939 -0.1031  0.0465 -0.0537 -0.0733\n",
      " -0.0756  0.0375 -0.0453  0.1035  0.0487\n",
      "\n",
      "(3 ,0 ,.,.) = \n",
      "  0.0764 -0.0445  0.0315  0.1025 -0.0688\n",
      " -0.0432  0.0142 -0.0131 -0.0575  0.1144\n",
      " -0.0243  0.0244 -0.0388 -0.0403  0.0502\n",
      "  0.0514  0.1006  0.0394  0.0149  0.0967\n",
      " -0.1066  0.0538  0.0267  0.0345  0.0067\n",
      "\n",
      "(3 ,1 ,.,.) = \n",
      "  0.0217 -0.0989  0.0140  0.1070 -0.0153\n",
      " -0.0648  0.0711  0.0758  0.0587 -0.0244\n",
      "  0.0401  0.0112  0.0702 -0.0385  0.0146\n",
      "  0.0850  0.0326  0.1035  0.0118  0.0485\n",
      " -0.0353  0.0426  0.0210  0.0009 -0.0543\n",
      "\n",
      "(3 ,2 ,.,.) = \n",
      " -0.0936  0.0207 -0.0404  0.0930 -0.0210\n",
      " -0.0296 -0.0816 -0.1017  0.0711  0.0205\n",
      "  0.0805 -0.0285 -0.1141 -0.0683 -0.0380\n",
      "  0.0390 -0.0624 -0.0444  0.0969  0.0411\n",
      " -0.0517 -0.0678 -0.0002  0.0818  0.0069\n",
      "\n",
      "(4 ,0 ,.,.) = \n",
      "  0.0410  0.0857 -0.0456  0.0082 -0.0908\n",
      " -0.0458 -0.0341 -0.0529  0.0966  0.0783\n",
      "  0.1091  0.0849  0.0301  0.0715 -0.0938\n",
      "  0.0941  0.0284  0.1036  0.0917 -0.0188\n",
      "  0.0500  0.0317 -0.0788 -0.1041  0.0787\n",
      "\n",
      "(4 ,1 ,.,.) = \n",
      "  0.0833 -0.0161  0.0812  0.0122 -0.1063\n",
      " -0.0995  0.0310  0.0566  0.0617 -0.0264\n",
      "  0.1077 -0.0388 -0.0299  0.0981  0.0367\n",
      "  0.0520  0.0550 -0.0882  0.0593 -0.0354\n",
      " -0.0230 -0.0329  0.0009  0.0887 -0.0837\n",
      "\n",
      "(4 ,2 ,.,.) = \n",
      " -0.0985 -0.0418  0.0517  0.0933 -0.0310\n",
      " -0.0301 -0.0687 -0.1113  0.0661  0.0203\n",
      " -0.0115  0.0054 -0.0903  0.0772  0.0103\n",
      " -0.0027 -0.0225  0.1011 -0.0436 -0.0926\n",
      " -0.0641 -0.0421  0.1066 -0.0948 -0.0608\n",
      "\n",
      "(5 ,0 ,.,.) = \n",
      "  0.0489  0.0108  0.0232  0.1036  0.0895\n",
      " -0.0171  0.0041 -0.0595  0.0211 -0.0405\n",
      "  0.0921 -0.0636 -0.0103 -0.0424 -0.0362\n",
      "  0.0623  0.0678 -0.0309  0.0621  0.0084\n",
      "  0.0074 -0.0949 -0.0449 -0.0560 -0.0254\n",
      "\n",
      "(5 ,1 ,.,.) = \n",
      "  0.1129  0.0989 -0.0220 -0.0784  0.0621\n",
      "  0.0245  0.0769  0.0263  0.0362 -0.1012\n",
      " -0.0768  0.0177  0.0161 -0.0821 -0.0961\n",
      " -0.0599  0.0847 -0.0248 -0.0115  0.0903\n",
      "  0.0140  0.0873 -0.1143  0.0857  0.0282\n",
      "\n",
      "(5 ,2 ,.,.) = \n",
      " -0.0214 -0.0250 -0.0307 -0.0329  0.0054\n",
      " -0.0772  0.0010 -0.0071  0.0956  0.0162\n",
      "  0.0175 -0.0306 -0.0948 -0.1026  0.0188\n",
      "  0.0517 -0.0482 -0.1109  0.0040 -0.1027\n",
      "  0.0949 -0.0171  0.0610  0.0165 -0.0815\n",
      "[torch.FloatTensor of size 6x3x5x5]\n",
      "\n"
     ]
    }
   ],
   "source": [
    "params = list(cnn_net.parameters())\n",
    "print(len(params))\n",
    "print(params[0])  # conv1's weights"
   ]
  },
  {
   "cell_type": "code",
   "execution_count": 7,
   "metadata": {
    "collapsed": true
   },
   "outputs": [
    {
     "name": "stdout",
     "output_type": "stream",
     "text": [
      "Variable containing:\n",
      "(0 ,0 ,.,.) = \n",
      " -1.1430 -0.7030 -0.5593  ...   0.8817  1.3423  1.1922\n",
      " -1.8406 -1.8927 -0.6774  ...  -0.5937  1.0948 -0.0220\n",
      "  0.8934  0.6300  1.2183  ...  -0.3693  1.0363  0.8582\n",
      "           ...             ⋱             ...          \n",
      "  0.6631 -1.4014  1.7669  ...  -0.2705 -0.2621  0.7387\n",
      "  0.7840  0.4836 -0.6318  ...   1.2961 -0.1737  2.0576\n",
      "  0.2832  1.9511 -0.1682  ...  -0.5727 -2.1228  2.1749\n",
      "\n",
      "(0 ,1 ,.,.) = \n",
      " -0.2996 -0.4241  1.0799  ...   1.2598 -0.3111 -1.2882\n",
      "  1.4745 -1.1935  0.2095  ...   1.4058  1.0875 -0.9440\n",
      "  0.5303 -0.7267 -0.0243  ...   1.1263  0.0457  1.2527\n",
      "           ...             ⋱             ...          \n",
      " -0.5080 -1.5663 -1.4825  ...  -0.9414  1.2689 -0.6734\n",
      "  1.4657 -0.3791  0.8302  ...  -2.0735 -0.9766 -1.0664\n",
      "  0.2750  0.6998  1.1887  ...   1.0163 -2.2234 -0.2732\n",
      "\n",
      "(0 ,2 ,.,.) = \n",
      " -1.1991  0.2930 -0.7028  ...  -0.6533 -0.2122  0.7759\n",
      "  0.4307 -0.5024 -0.4489  ...   0.7330  0.0679  1.7490\n",
      "  3.4923 -1.3034 -1.7384  ...   0.1849 -1.6159 -0.5567\n",
      "           ...             ⋱             ...          \n",
      "  0.3503  2.1133  0.3005  ...   0.4588 -1.9647 -0.8674\n",
      " -1.7596 -0.4677 -0.1243  ...   0.6121 -0.6687 -0.6088\n",
      "  1.0606  1.2126  1.7994  ...   0.4596  0.4043  1.3873\n",
      "[torch.FloatTensor of size 1x3x32x32]\n",
      "\n",
      "Variable containing:\n",
      " 0.0608 -0.1066  0.0744  0.0008  0.0537 -0.0235  0.1877 -0.0348  0.0162  0.0115\n",
      "[torch.FloatTensor of size 1x10]\n",
      "\n"
     ]
    }
   ],
   "source": [
    "x = Variable(torch.randn(1, 3, 32,32))  # (batch_size, channels_size, image_size_x, image_size_y) \n",
    "print(x)\n",
    "y = cnn_net(x) # or cnn_net.forward(x)\n",
    "print(y)"
   ]
  },
  {
   "cell_type": "markdown",
   "metadata": {},
   "source": [
    "## Define a loss function and Optimize"
   ]
  },
  {
   "cell_type": "code",
   "execution_count": 8,
   "metadata": {
    "collapsed": true
   },
   "outputs": [],
   "source": [
    "import torch.optim as optim\n",
    "\n",
    "criterion = nn.CrossEntropyLoss()\n",
    "optimizer = optim.SGD(params=cnn_net.parameters(), lr=0.001, momentum=0.9)"
   ]
  },
  {
   "cell_type": "markdown",
   "metadata": {},
   "source": [
    "## Train the network"
   ]
  },
  {
   "cell_type": "code",
   "execution_count": 9,
   "metadata": {},
   "outputs": [
    {
     "name": "stdout",
     "output_type": "stream",
     "text": [
      "[1,  2000] loss: 2.160\n",
      "[1,  4000] loss: 1.816\n",
      "[1,  6000] loss: 1.660\n",
      "[1,  8000] loss: 1.576\n",
      "[1, 10000] loss: 1.515\n",
      "[1, 12000] loss: 1.485\n",
      "[2,  2000] loss: 1.398\n",
      "[2,  4000] loss: 1.364\n",
      "[2,  6000] loss: 1.339\n",
      "[2,  8000] loss: 1.331\n",
      "[2, 10000] loss: 1.287\n",
      "[2, 12000] loss: 1.260\n",
      "Finished Training\n"
     ]
    }
   ],
   "source": [
    "epoch_num = 2\n",
    "for epoch in range(epoch_num):\n",
    "    running_loss = 0.0\n",
    "    \n",
    "    for i, data in enumerate(trainloader, 0):\n",
    "        images, labels = data\n",
    "        # wrap them in Variable\n",
    "        inputs, labels = Variable(images), Variable(labels)\n",
    "        # zero the parameter gradients\n",
    "        optimizer.zero_grad()\n",
    "        # forward\n",
    "        outputs = cnn_net(inputs)\n",
    "        # backward\n",
    "        loss = criterion(outputs, labels)\n",
    "        loss.backward()\n",
    "        # optimiz: step() can be called once the gradients are computed using backward().\n",
    "        optimizer.step()\n",
    "        \n",
    "        # print statistics\n",
    "        running_loss += loss.data[0]\n",
    "        if i % 2000 == 1999:\n",
    "            print('[%d, %5d] loss: %.3f' %\n",
    "                  (epoch + 1, i + 1, running_loss / 2000))\n",
    "            running_loss = 0.0\n",
    "\n",
    "print('Finished Training')"
   ]
  },
  {
   "cell_type": "markdown",
   "metadata": {},
   "source": [
    "## Test"
   ]
  },
  {
   "cell_type": "code",
   "execution_count": 10,
   "metadata": {},
   "outputs": [
    {
     "name": "stdout",
     "output_type": "stream",
     "text": [
      "Accuracy of the network on the 10000 test images: 55 %\n"
     ]
    }
   ],
   "source": [
    "total, correct = 0, 0\n",
    "for data in testloader:\n",
    "    imgs, labels = data\n",
    "    outputs = cnn_net(Variable(imgs))\n",
    "    _, predicted = torch.max(outputs.data, 1)\n",
    "    total += labels.size(0)\n",
    "    correct += (predicted == labels).sum()\n",
    "    \n",
    "print('Accuracy of the network on the 10000 test images: %d %%' % (\n",
    "    100 * correct / total))"
   ]
  },
  {
   "cell_type": "code",
   "execution_count": null,
   "metadata": {},
   "outputs": [],
   "source": [
    "class_total = [0] * 10\n",
    "class_correct = [0] * 10\n",
    "for data in testloader:\n",
    "    imgs, labels = data\n",
    "    outputs = cnn_net(Variable(imgs))\n",
    "    _, predicted = torch.max(outputs.data, 1)\n",
    "    c = (predicted == labels).squeeze()\n",
    "    # batch_size = 4\n",
    "    for i in range(4):\n",
    "        label = labels[i]\n",
    "        class_correct[label] += c[i]\n",
    "        class_total[label] += 1\n",
    "\n",
    "\n",
    "for i in range(10):\n",
    "    print('Accuracy of %5s : %2d %%' % (\n",
    "        classes[i], 100 * class_correct[i] / class_total[i]))"
   ]
  }
 ],
 "metadata": {
  "kernelspec": {
   "display_name": "Python 3",
   "language": "python",
   "name": "python3"
  },
  "language_info": {
   "codemirror_mode": {
    "name": "ipython",
    "version": 3
   },
   "file_extension": ".py",
   "mimetype": "text/x-python",
   "name": "python",
   "nbconvert_exporter": "python",
   "pygments_lexer": "ipython3",
   "version": "3.6.1"
  }
 },
 "nbformat": 4,
 "nbformat_minor": 2
}
