{
 "cells": [
  {
   "cell_type": "markdown",
   "metadata": {},
   "source": [
    "## Preparing the Data"
   ]
  },
  {
   "cell_type": "code",
   "execution_count": 11,
   "metadata": {
    "collapsed": true
   },
   "outputs": [],
   "source": [
    "import glob"
   ]
  },
  {
   "cell_type": "code",
   "execution_count": 39,
   "metadata": {},
   "outputs": [
    {
     "name": "stdout",
     "output_type": "stream",
     "text": [
      "['./data/data-for-char-rnn/names/Scottish.txt', './data/data-for-char-rnn/names/German.txt', './data/data-for-char-rnn/names/Italian.txt', './data/data-for-char-rnn/names/Dutch.txt', './data/data-for-char-rnn/names/English.txt', './data/data-for-char-rnn/names/Portuguese.txt', './data/data-for-char-rnn/names/Chinese.txt', './data/data-for-char-rnn/names/Japanese.txt', './data/data-for-char-rnn/names/Greek.txt', './data/data-for-char-rnn/names/Vietnamese.txt', './data/data-for-char-rnn/names/Korean.txt', './data/data-for-char-rnn/names/Polish.txt', './data/data-for-char-rnn/names/Czech.txt', './data/data-for-char-rnn/names/Arabic.txt', './data/data-for-char-rnn/names/Russian.txt', './data/data-for-char-rnn/names/French.txt', './data/data-for-char-rnn/names/Irish.txt', './data/data-for-char-rnn/names/Spanish.txt']\n",
      "abcdefghijklmnopqrstuvwxyzABCDEFGHIJKLMNOPQRSTUVWXYZ .,;'\n"
     ]
    }
   ],
   "source": [
    "path = \"./data/data-for-char-rnn/names/*.txt\"\n",
    "file_names = glob.glob(path) # find file names: ./[Language].txt\n",
    "print(file_names)\n",
    "all_letters = string.ascii_letters + \" .,;'\"\n",
    "num_letters = len(all_letters)\n",
    "print(all_letters)"
   ]
  },
  {
   "cell_type": "code",
   "execution_count": 13,
   "metadata": {
    "collapsed": true
   },
   "outputs": [],
   "source": [
    "import unicodedata\n",
    "import string"
   ]
  },
  {
   "cell_type": "code",
   "execution_count": 36,
   "metadata": {
    "collapsed": true
   },
   "outputs": [],
   "source": [
    "def unicode2ascii(s):\n",
    "    \"\"\"Turn a Unicode string to plain ASCII\n",
    "    http://stackoverflow.com/a/518232/2809427\"\"\"\n",
    "    return ''.join(\n",
    "        c for c in unicodedata.normalize('NFD', s)\n",
    "        if unicodedata.category(c) != 'Mn'\n",
    "        and c in all_letters\n",
    "    )"
   ]
  },
  {
   "cell_type": "code",
   "execution_count": 21,
   "metadata": {},
   "outputs": [
    {
     "name": "stdout",
     "output_type": "stream",
     "text": [
      "Slusarski\n"
     ]
    }
   ],
   "source": [
    "print(unicode2ascii('Ślusàrski'))"
   ]
  },
  {
   "cell_type": "code",
   "execution_count": 29,
   "metadata": {
    "collapsed": true
   },
   "outputs": [],
   "source": [
    "def _load_name_data(file_name):\n",
    "    data = []\n",
    "    with open(file_name, 'r') as f:\n",
    "        for line in f:\n",
    "            data.append(unicode2ascii(line.strip()))\n",
    "    return data"
   ]
  },
  {
   "cell_type": "code",
   "execution_count": 30,
   "metadata": {},
   "outputs": [
    {
     "name": "stdout",
     "output_type": "stream",
     "text": [
      "['Ang', 'AuYong', 'Bai', 'Ban', 'Bao']\n"
     ]
    }
   ],
   "source": [
    "file_name = './data/data-for-char-rnn/names/Chinese.txt'\n",
    "data = _load_name_data(file_name)\n",
    "print(data[:5])"
   ]
  },
  {
   "cell_type": "code",
   "execution_count": 31,
   "metadata": {
    "collapsed": true
   },
   "outputs": [],
   "source": [
    "def load_data(file_names):\n",
    "    data = dict()\n",
    "    for f in file_names:\n",
    "        category = f.split('/')[-1].split('.')[0]\n",
    "        data[category] = _load_name_data(f)\n",
    "    return data"
   ]
  },
  {
   "cell_type": "code",
   "execution_count": 52,
   "metadata": {},
   "outputs": [
    {
     "name": "stdout",
     "output_type": "stream",
     "text": [
      "18\n",
      "dict_keys(['Scottish', 'German', 'Italian', 'Dutch', 'English', 'Portuguese', 'Chinese', 'Japanese', 'Greek', 'Vietnamese', 'Korean', 'Polish', 'Czech', 'Arabic', 'Russian', 'French', 'Irish', 'Spanish'])\n",
      "['Ang', 'AuYong', 'Bai', 'Ban', 'Bao']\n"
     ]
    }
   ],
   "source": [
    "data = load_data(file_names)\n",
    "num_category = len(data)\n",
    "print(num_category)\n",
    "print(data.keys())\n",
    "print(data['Chinese'][:5])"
   ]
  },
  {
   "cell_type": "code",
   "execution_count": 38,
   "metadata": {},
   "outputs": [
    {
     "name": "stdout",
     "output_type": "stream",
     "text": [
      "0\n"
     ]
    }
   ],
   "source": [
    "def letter2index(letter):\n",
    "    return all_letters.find(letter)\n",
    "\n",
    "print(letter2index('a'))"
   ]
  },
  {
   "cell_type": "code",
   "execution_count": 41,
   "metadata": {},
   "outputs": [
    {
     "name": "stdout",
     "output_type": "stream",
     "text": [
      "\n",
      "\n",
      "Columns 0 to 12 \n",
      "    1     0     0     0     0     0     0     0     0     0     0     0     0\n",
      "\n",
      "Columns 13 to 25 \n",
      "    0     0     0     0     0     0     0     0     0     0     0     0     0\n",
      "\n",
      "Columns 26 to 38 \n",
      "    0     0     0     0     0     0     0     0     0     0     0     0     0\n",
      "\n",
      "Columns 39 to 51 \n",
      "    0     0     0     0     0     0     0     0     0     0     0     0     0\n",
      "\n",
      "Columns 52 to 56 \n",
      "    0     0     0     0     0\n",
      "[torch.FloatTensor of size 1x57]\n",
      "\n"
     ]
    }
   ],
   "source": [
    "import torch\n",
    "\n",
    "def letter2tensor(letter):\n",
    "    tensor = torch.zeros(1, num_letters)\n",
    "    tensor[0][letter2index(letter)] = 1\n",
    "    return tensor\n",
    "\n",
    "print(letter2tensor('a'))"
   ]
  },
  {
   "cell_type": "code",
   "execution_count": 44,
   "metadata": {},
   "outputs": [
    {
     "name": "stdout",
     "output_type": "stream",
     "text": [
      "torch.Size([4, 1, 57])\n"
     ]
    }
   ],
   "source": [
    "def name2tensor(name):\n",
    "    # [name_len, batch_size, letters_size)\n",
    "    tensor = torch.zeros(len(name), 1, num_letters)\n",
    "    for i, letter in enumerate(name):\n",
    "        tensor[i] = letter2tensor(letter)\n",
    "    return tensor\n",
    "\n",
    "print(line2tensor('hang').size())"
   ]
  },
  {
   "cell_type": "markdown",
   "metadata": {},
   "source": [
    "## Define the Network: Simple RNN\n",
    "![SimpleRNN](./pictures/simpleRNN.png)\n"
   ]
  },
  {
   "cell_type": "code",
   "execution_count": 49,
   "metadata": {
    "collapsed": true
   },
   "outputs": [],
   "source": [
    "import torch.nn as nn\n",
    "from torch.autograd import Variable"
   ]
  },
  {
   "cell_type": "code",
   "execution_count": 54,
   "metadata": {},
   "outputs": [],
   "source": [
    "class RNN(nn.Module):\n",
    "    def __init__(self, input_size, hidden_size, output_size):\n",
    "        super(RNN, self).__init__()\n",
    "        self.hidden_size = hidden_size\n",
    "        \n",
    "        self.i2o= nn.Linear(input_size + hidden_size, output_size)\n",
    "        self.i2h = nn.Linear(input_size + hidden_size, hidden_size)\n",
    "        self.softmax = nn.LogSoftmax()\n",
    "    \n",
    "    def forward(self, x, hidden):\n",
    "        combined = torch.cat((x, hidden), 1)\n",
    "        hidden = self.i2h(combined)\n",
    "        output = self.i2o(combined)\n",
    "        return self.softmax(output)\n",
    "    \n",
    "    def init_hidden(self):\n",
    "        return Variable(torch.zeros(1, self.hidden_size))\n",
    "\n",
    "hidden_size = 128\n",
    "rnn = RNN(num_letters, hidden_size, num_category)"
   ]
  },
  {
   "cell_type": "code",
   "execution_count": null,
   "metadata": {
    "collapsed": true
   },
   "outputs": [],
   "source": []
  }
 ],
 "metadata": {
  "kernelspec": {
   "display_name": "Python 3",
   "language": "python",
   "name": "python3"
  },
  "language_info": {
   "codemirror_mode": {
    "name": "ipython",
    "version": 3
   },
   "file_extension": ".py",
   "mimetype": "text/x-python",
   "name": "python",
   "nbconvert_exporter": "python",
   "pygments_lexer": "ipython3",
   "version": "3.6.1"
  }
 },
 "nbformat": 4,
 "nbformat_minor": 2
}
