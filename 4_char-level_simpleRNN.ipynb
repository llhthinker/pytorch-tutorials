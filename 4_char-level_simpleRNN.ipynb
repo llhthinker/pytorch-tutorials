{
 "cells": [
  {
   "cell_type": "markdown",
   "metadata": {},
   "source": [
    "## Preparing the Data"
   ]
  },
  {
   "cell_type": "code",
   "execution_count": 63,
   "metadata": {},
   "outputs": [],
   "source": [
    "%matplotlib inline"
   ]
  },
  {
   "cell_type": "code",
   "execution_count": 4,
   "metadata": {
    "collapsed": true
   },
   "outputs": [],
   "source": [
    "import glob\n",
    "import string"
   ]
  },
  {
   "cell_type": "code",
   "execution_count": 5,
   "metadata": {},
   "outputs": [
    {
     "name": "stdout",
     "output_type": "stream",
     "text": [
      "['./data/data-for-char-rnn/names/Scottish.txt', './data/data-for-char-rnn/names/German.txt', './data/data-for-char-rnn/names/Italian.txt', './data/data-for-char-rnn/names/Dutch.txt', './data/data-for-char-rnn/names/English.txt', './data/data-for-char-rnn/names/Portuguese.txt', './data/data-for-char-rnn/names/Chinese.txt', './data/data-for-char-rnn/names/Japanese.txt', './data/data-for-char-rnn/names/Greek.txt', './data/data-for-char-rnn/names/Vietnamese.txt', './data/data-for-char-rnn/names/Korean.txt', './data/data-for-char-rnn/names/Polish.txt', './data/data-for-char-rnn/names/Czech.txt', './data/data-for-char-rnn/names/Arabic.txt', './data/data-for-char-rnn/names/Russian.txt', './data/data-for-char-rnn/names/French.txt', './data/data-for-char-rnn/names/Irish.txt', './data/data-for-char-rnn/names/Spanish.txt']\n",
      "abcdefghijklmnopqrstuvwxyzABCDEFGHIJKLMNOPQRSTUVWXYZ .,;'\n"
     ]
    }
   ],
   "source": [
    "path = \"./data/data-for-char-rnn/names/*.txt\"\n",
    "file_names = glob.glob(path) # find file names: ./[Language].txt\n",
    "print(file_names)\n",
    "all_letters = string.ascii_letters + \" .,;'\"\n",
    "num_letters = len(all_letters)\n",
    "print(all_letters)"
   ]
  },
  {
   "cell_type": "code",
   "execution_count": 6,
   "metadata": {
    "collapsed": true
   },
   "outputs": [],
   "source": [
    "import unicodedata"
   ]
  },
  {
   "cell_type": "code",
   "execution_count": 7,
   "metadata": {
    "collapsed": true
   },
   "outputs": [],
   "source": [
    "def unicode2ascii(s):\n",
    "    \"\"\"Turn a Unicode string to plain ASCII\n",
    "    http://stackoverflow.com/a/518232/2809427\"\"\"\n",
    "    return ''.join(\n",
    "        c for c in unicodedata.normalize('NFD', s)\n",
    "        if unicodedata.category(c) != 'Mn'\n",
    "        and c in all_letters\n",
    "    )"
   ]
  },
  {
   "cell_type": "code",
   "execution_count": 8,
   "metadata": {},
   "outputs": [
    {
     "name": "stdout",
     "output_type": "stream",
     "text": [
      "Slusarski\n"
     ]
    }
   ],
   "source": [
    "print(unicode2ascii('Ślusàrski'))"
   ]
  },
  {
   "cell_type": "code",
   "execution_count": 9,
   "metadata": {
    "collapsed": true
   },
   "outputs": [],
   "source": [
    "def _load_name_data(file_name):\n",
    "    data = []\n",
    "    with open(file_name, 'r') as f:\n",
    "        for line in f:\n",
    "            data.append(unicode2ascii(line.strip()))\n",
    "    return data"
   ]
  },
  {
   "cell_type": "code",
   "execution_count": 10,
   "metadata": {},
   "outputs": [
    {
     "name": "stdout",
     "output_type": "stream",
     "text": [
      "['Ang', 'AuYong', 'Bai', 'Ban', 'Bao']\n"
     ]
    }
   ],
   "source": [
    "file_name = './data/data-for-char-rnn/names/Chinese.txt'\n",
    "data = _load_name_data(file_name)\n",
    "print(data[:5])"
   ]
  },
  {
   "cell_type": "code",
   "execution_count": 11,
   "metadata": {
    "collapsed": true
   },
   "outputs": [],
   "source": [
    "def load_data(file_names):\n",
    "    data = dict()\n",
    "    all_categories = []\n",
    "    for f in file_names:\n",
    "        category = f.split('/')[-1].split('.')[0]\n",
    "        all_categories.append(category)\n",
    "        data[category] = _load_name_data(f)\n",
    "    return all_categories, data"
   ]
  },
  {
   "cell_type": "code",
   "execution_count": 66,
   "metadata": {},
   "outputs": [
    {
     "name": "stdout",
     "output_type": "stream",
     "text": [
      "18\n",
      "['Scottish', 'German', 'Italian', 'Dutch', 'English', 'Portuguese', 'Chinese', 'Japanese', 'Greek', 'Vietnamese', 'Korean', 'Polish', 'Czech', 'Arabic', 'Russian', 'French', 'Irish', 'Spanish']\n",
      "['Ang', 'AuYong', 'Bai', 'Ban', 'Bao']\n"
     ]
    }
   ],
   "source": [
    "all_categories, data = load_data(file_names)\n",
    "num_categories = len(all_categories)\n",
    "print(num_categories)\n",
    "print(all_categories)\n",
    "print(data['Chinese'][:5])"
   ]
  },
  {
   "cell_type": "code",
   "execution_count": 13,
   "metadata": {},
   "outputs": [
    {
     "name": "stdout",
     "output_type": "stream",
     "text": [
      "0\n"
     ]
    }
   ],
   "source": [
    "def letter2index(letter):\n",
    "    return all_letters.find(letter)\n",
    "\n",
    "print(letter2index('a'))"
   ]
  },
  {
   "cell_type": "code",
   "execution_count": 14,
   "metadata": {},
   "outputs": [
    {
     "name": "stdout",
     "output_type": "stream",
     "text": [
      "\n",
      "\n",
      "Columns 0 to 12 \n",
      "    1     0     0     0     0     0     0     0     0     0     0     0     0\n",
      "\n",
      "Columns 13 to 25 \n",
      "    0     0     0     0     0     0     0     0     0     0     0     0     0\n",
      "\n",
      "Columns 26 to 38 \n",
      "    0     0     0     0     0     0     0     0     0     0     0     0     0\n",
      "\n",
      "Columns 39 to 51 \n",
      "    0     0     0     0     0     0     0     0     0     0     0     0     0\n",
      "\n",
      "Columns 52 to 56 \n",
      "    0     0     0     0     0\n",
      "[torch.FloatTensor of size 1x57]\n",
      "\n"
     ]
    }
   ],
   "source": [
    "import torch\n",
    "\n",
    "def letter2tensor(letter):\n",
    "    tensor = torch.zeros(1, num_letters)\n",
    "    tensor[0][letter2index(letter)] = 1\n",
    "    return tensor\n",
    "\n",
    "print(letter2tensor('a'))"
   ]
  },
  {
   "cell_type": "code",
   "execution_count": 16,
   "metadata": {},
   "outputs": [
    {
     "name": "stdout",
     "output_type": "stream",
     "text": [
      "torch.Size([4, 1, 57])\n"
     ]
    }
   ],
   "source": [
    "def name2tensor(name):\n",
    "    # [name_len, batch_size, letters_size)\n",
    "    tensor = torch.zeros(len(name), 1, num_letters)\n",
    "    for i, letter in enumerate(name):\n",
    "        tensor[i] = letter2tensor(letter)\n",
    "    return tensor\n",
    "\n",
    "print(name2tensor('hang').size())"
   ]
  },
  {
   "cell_type": "markdown",
   "metadata": {},
   "source": [
    "## Define the Network: Simple RNN\n",
    "![SimpleRNN](./pictures/simpleRNN.png)\n"
   ]
  },
  {
   "cell_type": "code",
   "execution_count": 17,
   "metadata": {
    "collapsed": true
   },
   "outputs": [],
   "source": [
    "import torch.nn as nn\n",
    "from torch.autograd import Variable"
   ]
  },
  {
   "cell_type": "code",
   "execution_count": 23,
   "metadata": {
    "collapsed": true
   },
   "outputs": [],
   "source": [
    "class RNN(nn.Module):\n",
    "    def __init__(self, input_size, hidden_size, output_size):\n",
    "        super(RNN, self).__init__()\n",
    "        self.hidden_size = hidden_size\n",
    "        \n",
    "        self.i2o= nn.Linear(input_size + hidden_size, output_size)\n",
    "        self.i2h = nn.Linear(input_size + hidden_size, hidden_size)\n",
    "        self.softmax = nn.LogSoftmax()\n",
    "    \n",
    "    def forward(self, x, hidden):\n",
    "        combined = torch.cat((x, hidden), 1)\n",
    "        hidden = self.i2h(combined)\n",
    "        output = self.i2o(combined)\n",
    "        return self.softmax(output), hidden\n",
    "    \n",
    "    def init_hidden(self):\n",
    "        return Variable(torch.zeros(1, self.hidden_size))\n",
    "\n",
    "hidden_size = 128\n",
    "rnn = RNN(num_letters, hidden_size, num_category)"
   ]
  },
  {
   "cell_type": "markdown",
   "metadata": {
    "collapsed": true
   },
   "source": [
    "## Training"
   ]
  },
  {
   "cell_type": "markdown",
   "metadata": {},
   "source": [
    "### Preparing for Training"
   ]
  },
  {
   "cell_type": "code",
   "execution_count": 39,
   "metadata": {
    "collapsed": true
   },
   "outputs": [],
   "source": [
    "def get_category_from_output(output):\n",
    "    top_n, top_i = output.data.topk(1)\n",
    "    category_index = top_i[0][0]\n",
    "    return all_categories[category_index], category_index"
   ]
  },
  {
   "cell_type": "code",
   "execution_count": 40,
   "metadata": {},
   "outputs": [
    {
     "name": "stdout",
     "output_type": "stream",
     "text": [
      "Variable containing:\n",
      "\n",
      "Columns 0 to 9 \n",
      "-2.9093 -2.8742 -2.8419 -2.9471 -2.8272 -2.8358 -2.8696 -2.8296 -2.8707 -2.9160\n",
      "\n",
      "Columns 10 to 17 \n",
      "-2.9064 -2.9008 -2.8728 -2.9201 -2.9174 -2.8841 -2.9456 -2.9735\n",
      "[torch.FloatTensor of size 1x18]\n",
      "\n",
      "('English', 4)\n"
     ]
    }
   ],
   "source": [
    "x = Variable(name2tensor('hang'))\n",
    "hidden = Variable(torch.zeros(1, hidden_size))\n",
    "\n",
    "output, next_hidden = rnn(x[0], hidden)\n",
    "print(output)\n",
    "print(get_category_from_output(output))"
   ]
  },
  {
   "cell_type": "code",
   "execution_count": 26,
   "metadata": {
    "collapsed": true
   },
   "outputs": [],
   "source": [
    "import random"
   ]
  },
  {
   "cell_type": "code",
   "execution_count": 47,
   "metadata": {
    "collapsed": true
   },
   "outputs": [],
   "source": [
    "def random_choose(list_data):\n",
    "    return list_data[random.randint(0, len(list_data)-1)]"
   ]
  },
  {
   "cell_type": "code",
   "execution_count": 56,
   "metadata": {},
   "outputs": [
    {
     "name": "stdout",
     "output_type": "stream",
     "text": [
      "Russian Alhimenko torch.Size([1]) torch.Size([9, 1, 57])\n",
      "French Simon torch.Size([1]) torch.Size([5, 1, 57])\n",
      "Czech Kusak torch.Size([1]) torch.Size([5, 1, 57])\n",
      "Korean Hwang torch.Size([1]) torch.Size([5, 1, 57])\n",
      "Italian Passerini torch.Size([1]) torch.Size([9, 1, 57])\n"
     ]
    }
   ],
   "source": [
    "def random_training_example(all_categories, data):\n",
    "    category = random_choose(all_categories)\n",
    "    name = random_choose(data[category])\n",
    "    category_tensor = Variable(torch.LongTensor([all_categories.index(category)]))\n",
    "    name_tensor = Variable(name2tensor(name))\n",
    "    return category, name, category_tensor, name_tensor\n",
    "\n",
    "for _ in range(5):\n",
    "    tmp_category, tmp_name, tmp_category_tensor, tmp_name_tensor = random_training_example(all_categories, data)\n",
    "    print(tmp_category, tmp_name, tmp_category_tensor.size(), tmp_name_tensor.size())"
   ]
  },
  {
   "cell_type": "markdown",
   "metadata": {},
   "source": [
    "### Training"
   ]
  },
  {
   "cell_type": "code",
   "execution_count": 49,
   "metadata": {
    "collapsed": true
   },
   "outputs": [],
   "source": [
    "criterion = nn.NLLLoss()\n",
    "learning_rate = 0.005"
   ]
  },
  {
   "cell_type": "code",
   "execution_count": 59,
   "metadata": {
    "collapsed": true
   },
   "outputs": [],
   "source": [
    "def train(category_tensor, name_tensor):\n",
    "    rnn.zero_grad()\n",
    "    hidden = rnn.init_hidden()\n",
    "    for i in range(name_tensor.size()[0]):  # each char in name:\n",
    "        output, hidden = rnn(name_tensor[i], hidden)\n",
    "    loss = criterion(output, category_tensor)\n",
    "    loss.backward()\n",
    "    \n",
    "    # Add parameters' gradients to their values, multiplied by learning rate\n",
    "    for p in rnn.parameters():\n",
    "        p.data.add_(-learning_rate, p.grad.data)\n",
    "        \n",
    "    return output, loss.data[0]\n",
    "    "
   ]
  },
  {
   "cell_type": "code",
   "execution_count": 60,
   "metadata": {},
   "outputs": [
    {
     "name": "stdout",
     "output_type": "stream",
     "text": [
      "5000 5% (0m 21s) 2.8817 Starek / Czech ✗ (Polish)\n",
      "10000 10% (0m 44s) 1.2936 Achteren / Dutch ✓\n",
      "15000 15% (1m 22s) 0.5757 Hatoyama / Japanese ✓\n",
      "20000 20% (2m 6s) 1.1074 Ankeren / Dutch ✓\n",
      "25000 25% (2m 31s) 1.8642 Gauk / Korean ✗ (Chinese)\n",
      "30000 30% (3m 3s) 1.6130 Samaha / Japanese ✗ (Arabic)\n",
      "35000 35% (3m 32s) 2.1473 Twine / Chinese ✗ (English)\n",
      "40000 40% (3m 58s) 1.0766 Zhiznevsky / Czech ✗ (Russian)\n",
      "45000 45% (4m 30s) 4.1466 Naggia / Arabic ✗ (Italian)\n",
      "50000 50% (5m 0s) 0.4347 Ghanem / Arabic ✓\n",
      "55000 55% (5m 23s) 5.0009 Fabian / Irish ✗ (Polish)\n",
      "60000 60% (5m 51s) 0.4239 Yim / Korean ✓\n",
      "65000 65% (6m 15s) 0.5626 Kuipers / Dutch ✓\n",
      "70000 70% (6m 40s) 0.0028 Giannakopoulos / Greek ✓\n",
      "75000 75% (7m 1s) 2.5402 Granger / French ✗ (English)\n",
      "80000 80% (7m 22s) 1.8711 Fonseca / Spanish ✗ (Portuguese)\n",
      "85000 85% (7m 44s) 0.4824 Ganim / Arabic ✓\n",
      "90000 90% (8m 5s) 0.0210 Mcmillan / Scottish ✓\n",
      "95000 95% (8m 29s) 1.0116 Gouveia / Portuguese ✓\n",
      "100000 100% (8m 50s) 0.3881 Benvenuti / Italian ✓\n"
     ]
    }
   ],
   "source": [
    "import time\n",
    "import math\n",
    "\n",
    "n_iters = 100000\n",
    "print_every = 5000\n",
    "plot_every = 1000\n",
    "\n",
    "\n",
    "\n",
    "# Keep track of losses for plotting\n",
    "current_loss = 0\n",
    "all_losses = []\n",
    "\n",
    "def time_since(since):\n",
    "    now = time.time()\n",
    "    s = now - since\n",
    "    m = math.floor(s / 60)\n",
    "    s -= m * 60\n",
    "    return '%dm %ds' % (m, s)\n",
    "\n",
    "start = time.time()\n",
    "\n",
    "for iter in range(1, n_iters + 1):\n",
    "    category, line, category_tensor, name_tensor = random_training_example(all_categories, data)\n",
    "    output, loss = train(category_tensor, name_tensor)\n",
    "    current_loss += loss\n",
    "\n",
    "    # Print iter number, loss, name and guess\n",
    "    if iter % print_every == 0:\n",
    "        guess, guess_i = get_category_from_output(output)\n",
    "        correct = '✓' if guess == category else '✗ (%s)' % category\n",
    "        print('%d %d%% (%s) %.4f %s / %s %s' % (iter, iter / n_iters * 100, \\\n",
    "                                                time_since(start), loss, line, guess, correct))\n",
    "\n",
    "    # Add current loss avg to list of losses\n",
    "    if iter % plot_every == 0:\n",
    "        all_losses.append(current_loss / plot_every)\n",
    "        current_loss = 0"
   ]
  },
  {
   "cell_type": "code",
   "execution_count": 64,
   "metadata": {},
   "outputs": [
    {
     "data": {
      "text/plain": [
       "[<matplotlib.lines.Line2D at 0x7f891541b5c0>]"
      ]
     },
     "execution_count": 64,
     "metadata": {},
     "output_type": "execute_result"
    },
    {
     "data": {
      "image/png": "[encoded data removed]",
      "text/plain": [
       "<matplotlib.figure.Figure at 0x7f8915498d68>"
      ]
     },
     "metadata": {},
     "output_type": "display_data"
    }
   ],
   "source": [
    "import matplotlib.pyplot as plt\n",
    "import matplotlib.ticker as ticker\n",
    "\n",
    "plt.figure()\n",
    "plt.plot(all_losses)"
   ]
  },
  {
   "cell_type": "markdown",
   "metadata": {},
   "source": [
    "## Evaluating the Results"
   ]
  },
  {
   "cell_type": "code",
   "execution_count": 69,
   "metadata": {},
   "outputs": [
    {
     "data": {
      "image/png": "[encoded data removed]",
      "text/plain": [
       "<matplotlib.figure.Figure at 0x7f891524add8>"
      ]
     },
     "metadata": {},
     "output_type": "display_data"
    }
   ],
   "source": [
    "# Keep track of correct guesses in a confusion matrix\n",
    "confusion = torch.zeros(num_categories, num_categories)\n",
    "n_confusion = 10000\n",
    "\n",
    "# Just return an output given a name\n",
    "def evaluate(name_tensor):\n",
    "    hidden = rnn.init_hidden()\n",
    "\n",
    "    for i in range(name_tensor.size()[0]):\n",
    "        output, hidden = rnn(name_tensor[i], hidden)\n",
    "\n",
    "    return output\n",
    "\n",
    "# Go through a bunch of examples and record which are correctly guessed\n",
    "for i in range(n_confusion):\n",
    "    category, name, category_tensor, name_tensor = random_training_example(all_categories, data)\n",
    "    output = evaluate(name_tensor)\n",
    "    guess, guess_i = get_category_from_output(output)\n",
    "    category_i = all_categories.index(category)\n",
    "    confusion[category_i][guess_i] += 1\n",
    "\n",
    "# Normalize by dividing every row by its sum\n",
    "for i in range(num_categories):\n",
    "    confusion[i] = confusion[i] / confusion[i].sum()\n",
    "\n",
    "# Set up plot\n",
    "fig = plt.figure()\n",
    "ax = fig.add_subplot(111)\n",
    "cax = ax.matshow(confusion.numpy())\n",
    "fig.colorbar(cax)\n",
    "\n",
    "# Set up axes\n",
    "ax.set_xticklabels([''] + all_categories, rotation=90)\n",
    "ax.set_yticklabels([''] + all_categories)\n",
    "\n",
    "# Force label at every tick\n",
    "ax.xaxis.set_major_locator(ticker.MultipleLocator(1))\n",
    "ax.yaxis.set_major_locator(ticker.MultipleLocator(1))\n",
    "\n",
    "# sphinx_gallery_thumbnail_number = 2\n",
    "plt.show()"
   ]
  },
  {
   "cell_type": "markdown",
   "metadata": {},
   "source": [
    "## Running on User Input"
   ]
  },
  {
   "cell_type": "code",
   "execution_count": 86,
   "metadata": {},
   "outputs": [
    {
     "name": "stdout",
     "output_type": "stream",
     "text": [
      "\n",
      "> Robin\n",
      "(-1.40) Irish\n",
      "(-1.93) French\n",
      "(-1.94) English\n",
      "\n",
      "> Jack Ma\n",
      "(-1.23) Spanish\n",
      "(-1.48) Greek\n",
      "(-1.69) Czech\n",
      "\n",
      "> Pony\n",
      "(-1.24) Vietnamese\n",
      "(-1.60) English\n",
      "(-2.33) Italian\n"
     ]
    }
   ],
   "source": [
    "def predict(input_name, n_predictions=3):\n",
    "    print('\\n> %s' % input_name)\n",
    "    output = evaluate(Variable(name2tensor(input_name)))\n",
    "\n",
    "    # Get top N categories\n",
    "    topv, topi = output.data.topk(n_predictions, 1, True)\n",
    "    predictions = []\n",
    "\n",
    "    for i in range(n_predictions):\n",
    "        value = topv[0][i]\n",
    "        category_index = topi[0][i]\n",
    "        print('(%.2f) %s' % (value, all_categories[category_index]))\n",
    "        predictions.append([value, all_categories[category_index]])\n",
    "\n",
    "predict('Robin')\n",
    "predict('Jack Ma')\n",
    "predict('Pony')"
   ]
  }
 ],
 "metadata": {
  "kernelspec": {
   "display_name": "Python 3",
   "language": "python",
   "name": "python3"
  },
  "language_info": {
   "codemirror_mode": {
    "name": "ipython",
    "version": 3
   },
   "file_extension": ".py",
   "mimetype": "text/x-python",
   "name": "python",
   "nbconvert_exporter": "python",
   "pygments_lexer": "ipython3",
   "version": "3.6.1"
  }
 },
 "nbformat": 4,
 "nbformat_minor": 2
}
